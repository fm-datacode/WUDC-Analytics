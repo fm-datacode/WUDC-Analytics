{
 "cells": [
  {
   "cell_type": "markdown",
   "id": "29bbfee1",
   "metadata": {},
   "source": [
    "<h1><center>WUDC Analytics</center></h1>"
   ]
  },
  {
   "cell_type": "markdown",
   "id": "315b4fb5",
   "metadata": {},
   "source": [
    "### 1. Importing Relevant Modules and Reading File"
   ]
  },
  {
   "cell_type": "code",
   "execution_count": null,
   "id": "3c9d13a2",
   "metadata": {},
   "outputs": [],
   "source": [
    "\"\"\"\n",
    "Original information from:\n",
    "https://wudckorea.calicotab.com/2021/tab/team\n",
    "https://wudc2022.calicotab.com/wudc/tab/team\n",
    "https://wudc2023.calicotab.com/wudc/tab/team\n",
    "\"\"\"\n",
    "\n",
    "import pandas as pd\n",
    "import numpy as np\n",
    "\n",
    "from itertools import groupby\n",
    "\n",
    "#For summary display - not a necessary component\n",
    "from IPython.display import display, HTML\n",
    "\n",
    "df = pd.read_excel(r\"{WUDC File}\")\n",
    "\n",
    "df"
   ]
  },
  {
   "cell_type": "markdown",
   "id": "bdd0fda5",
   "metadata": {},
   "source": [
    "### 2. Normalising Points Table\n",
    "A specific team with a specific round relate to a single value - their result. <br> \n",
    "Done as the three columns: Team | Round | Points"
   ]
  },
  {
   "cell_type": "code",
   "execution_count": null,
   "id": "b7c5a695",
   "metadata": {},
   "outputs": [],
   "source": [
    "#Saving the points per team for each of the 9 rounds, each as their own dataframe\n",
    "def simplify_function(roundnumber_string):  \n",
    "    df_info = df[[\"team\",roundnumber_string]]\n",
    "    df_info.insert(0, 'round', roundnumber_string)\n",
    "    df_info = df_info.rename({roundnumber_string: 'points'}, axis=1)\n",
    "    df_info = df_info[['team', 'round', 'points']]\n",
    "    return df_info\n",
    "     \n",
    "df_r1 = simplify_function(\"R1\")\n",
    "df_r2 = simplify_function(\"R2\")\n",
    "df_r3 = simplify_function(\"R3\")\n",
    "df_r4 = simplify_function(\"R4\")\n",
    "df_r5 = simplify_function(\"R5\")\n",
    "df_r6 = simplify_function(\"R6\")\n",
    "df_r7 = simplify_function(\"R7\")\n",
    "df_r8 = simplify_function(\"R8\")\n",
    "df_r9 = simplify_function(\"R9\")\n",
    "\n",
    "#Concatenate (union) the created tables and set a fresh index\n",
    "score_table1 = pd.concat([df_r1, df_r2, df_r3, df_r4, df_r5, df_r6, df_r7, df_r8, df_r9]).reset_index()\n",
    "score_table1 = score_table1.drop('index', axis=1)\n",
    "\n",
    "#Turn positions into their scores for numeric analysis\n",
    "score_table2 = score_table1.replace({'points': {'1st': 3, '2nd': 2, '3rd': 1, '4th': 0}}) #Replace string to numbers\n",
    "score_table2['points'] = score_table2['points'].apply(pd.to_numeric, errors='coerce') #Change to numeric type\n",
    "\n",
    "score_table2\n",
    "\n",
    "#Try a specific team to test it works:\n",
    "#score_table2[score_table2[\"team\"]==\"LSE A\"]"
   ]
  },
  {
   "cell_type": "markdown",
   "id": "d54a9ac8",
   "metadata": {},
   "source": [
    "### 3. Testing 'The Radicals'\n",
    "Criteria for 'Radicals' are:\n",
    "1. Debated all 9 rounds\n",
    "2. Wins >= Losses\n",
    "3. Ordered by total number of wins (1st) and losses (4th)\n",
    "4. Secondarily order by evenness of wins and losses - measured by wins minus losses"
   ]
  },
  {
   "cell_type": "code",
   "execution_count": null,
   "id": "f13f08f1",
   "metadata": {},
   "outputs": [],
   "source": [
    "#Crosstab on points by team, margins created the 'All' column\"\n",
    "cross_score_table = pd.crosstab(score_table2['team'], score_table2['points'],margins=True)\n",
    "\n",
    "#Adding the analytic columns\n",
    "cross_score_table.insert(4, 'wins_and_losses', cross_score_table.loc[:,[0.0,3.0]].sum(axis=1))\n",
    "cross_score_table.insert(5, 'win>=loss', np.where(cross_score_table[0.0]<=cross_score_table[3.0], 'True', 'False'))\n",
    "cross_score_table.insert(6, 'evenness', cross_score_table[3.0] - cross_score_table[0.0])\n",
    "\n",
    "#Filtering data\n",
    "cross_score_filter1a = cross_score_table[cross_score_table['All']== 9] #Debated in all 9 rounds\n",
    "cross_score_filter2a = cross_score_filter1a[cross_score_filter1a['win>=loss']=='True'] #Won more than lost\n",
    "\n",
    "#Print 1:\n",
    "#cross_score_filter2a.sort_values(['wins_and_losses','evenness'], ascending=[False, True]).head(5)"
   ]
  },
  {
   "cell_type": "markdown",
   "id": "8077cc72",
   "metadata": {},
   "source": [
    "### 4. Testing 'The Centrists'\n",
    "Criteria for 'Centrists' are:\n",
    "1. Debated all 9 rounds\n",
    "2. Ordered by total number of 2nds and 3rds - note will just use lowest number of wins and losses\n",
    "3. Evenness of 2nds and 3rds as secondary order"
   ]
  },
  {
   "cell_type": "code",
   "execution_count": null,
   "id": "9d39525c",
   "metadata": {},
   "outputs": [],
   "source": [
    "#Add new evenness measure to the existing unfiltered table\n",
    "cross_score_table.insert(7, 'centrist_evenness', cross_score_table[2.0] - cross_score_table[1.0])\n",
    "cross_score_table['centrist_evenness'] = cross_score_table['centrist_evenness'].abs()"
   ]
  },
  {
   "cell_type": "code",
   "execution_count": null,
   "id": "fbcf0c59",
   "metadata": {},
   "outputs": [],
   "source": [
    "#Filter\n",
    "cross_score_filter1b = cross_score_table[cross_score_table['All']== 9]\n",
    "\n",
    "#Print 2:\n",
    "#cross_score_filter1b.sort_values(['wins_and_losses','centrist_evenness'], ascending=[True, True]).head(5)"
   ]
  },
  {
   "cell_type": "markdown",
   "id": "fdfa6adb",
   "metadata": {},
   "source": [
    "### 5. Testing 'Silver Tongued Streak'\n",
    "Criteria for 'Silver Tongued Streak' are:\n",
    "1. As many wins in a row\n",
    "2. Secondary order of as many wins and 2nds in a row"
   ]
  },
  {
   "cell_type": "code",
   "execution_count": null,
   "id": "b09e1661",
   "metadata": {},
   "outputs": [],
   "source": [
    "#For tests on functions:\n",
    "#single_value_data = \"1st1st1st4th1st2nd1st1st1st\"\n",
    "\n",
    "\n",
    "def convert_score_string_to_list(results_string):\n",
    "    a = \",\".join(results_string[i : i + 3] for i in range(0, len(results_string), 3))\n",
    "    results_lst = a.split(\",\")\n",
    "    return results_lst\n",
    "\n",
    "def most_firsts_in_row(results_string):\n",
    "    team_results_lst = convert_score_string_to_list(results_string)\n",
    "    \n",
    "    d = dict() #Creation of dictionary\n",
    "    \n",
    "    for k, v in groupby(team_results_lst):\n",
    "        d.setdefault(k, []).append(len(list(v))) #Populating the dictionary using the list based on \n",
    "\n",
    "    a = {k:v for k, v in d.items() if k in ('1st')} #Selecting only the 1sts in a row\n",
    "    \n",
    "    try: \n",
    "        return max(a[\"1st\"]) #Finding the max 1st in a row\n",
    "    except:\n",
    "        return 0\n",
    "\n",
    "def seconds_to_firsts(results_string):\n",
    "    team_results_lst = convert_score_string_to_list(results_string)\n",
    "    #Converts 2nds to 1sts\n",
    "    converted_lst = list(map(lambda x: x.replace('2nd', '1st'), team_results_lst))\n",
    "    back_to_string = ''.join(converted_lst)\n",
    "    return back_to_string"
   ]
  },
  {
   "cell_type": "code",
   "execution_count": null,
   "id": "10a8b6dd",
   "metadata": {},
   "outputs": [],
   "source": [
    "round_lst = [\"R1\",\"R2\",\"R3\",\"R4\",\"R5\",\"R6\",\"R7\",\"R8\",\"R9\"]\n",
    "\n",
    "#Moves all rounds information, for a given team, into their 2 new columns\n",
    "df.insert(13, 'wins_in_row', df.loc[:,round_lst].sum(axis=1))\n",
    "df.insert(14, 'wins_and_2nds_in_row', df.loc[:,round_lst].sum(axis=1))\n",
    "\n",
    "#Apply the functions to test the wins in row\n",
    "df['wins_in_row'] = df['wins_in_row'].apply(most_firsts_in_row)\n",
    "df['wins_and_2nds_in_row'] = df['wins_and_2nds_in_row'].apply(seconds_to_firsts).apply(most_firsts_in_row)\n",
    "\n",
    "#Print 3:\n",
    "#df.sort_values(['wins_in_row','wins_and_2nds_in_row'], ascending=[False, False]).head(5)"
   ]
  },
  {
   "cell_type": "markdown",
   "id": "420d9269",
   "metadata": {},
   "source": [
    "### 6. Summary"
   ]
  },
  {
   "cell_type": "code",
   "execution_count": null,
   "id": "8bacc3eb",
   "metadata": {},
   "outputs": [],
   "source": [
    "print('\\033[1m' + '\\033[4m' + \"Top 5 Radicals:\")\n",
    "display(cross_score_filter2a.sort_values(['wins_and_losses','evenness'], ascending=[False, True]).head(5))\n",
    "\n",
    "print('\\033[1m' + '\\033[4m' + \"Top 5 Centrists:\")\n",
    "display(cross_score_filter1b.sort_values(['wins_and_losses','centrist_evenness'], ascending=[True, True]).head(5))\n",
    "\n",
    "print('\\033[1m' + '\\033[4m' + \"Top 5 Silver Tongued Streak:\")\n",
    "display(df.sort_values(['wins_in_row','wins_and_2nds_in_row'], ascending=[False, False]).head(5))"
   ]
  }
 ],
 "metadata": {
  "kernelspec": {
   "display_name": "Python 3 (ipykernel)",
   "language": "python",
   "name": "python3"
  },
  "language_info": {
   "codemirror_mode": {
    "name": "ipython",
    "version": 3
   },
   "file_extension": ".py",
   "mimetype": "text/x-python",
   "name": "python",
   "nbconvert_exporter": "python",
   "pygments_lexer": "ipython3",
   "version": "3.11.1"
  }
 },
 "nbformat": 4,
 "nbformat_minor": 5
}
